{
 "cells": [
  {
   "cell_type": "markdown",
   "id": "0a1ad061",
   "metadata": {},
   "source": [
    "검색어: 소년범  \n",
    "기간: 2011/07/15 ~ 2021/07/14 (최근 10년)  \n",
    "언론사: 전체  \n",
    "통합분류: 정치, 사회, 문화  \n",
    "사건사고 분류: 범죄, 사회  "
   ]
  },
  {
   "cell_type": "code",
   "execution_count": 1,
   "id": "9ab907ce",
   "metadata": {},
   "outputs": [
    {
     "name": "stdout",
     "output_type": "stream",
     "text": [
      "Collecting selenium\n",
      "  Downloading selenium-3.141.0-py2.py3-none-any.whl (904 kB)\n",
      "Requirement already satisfied: urllib3 in c:\\users\\hss\\anaconda3\\lib\\site-packages (from selenium) (1.26.4)\n",
      "Installing collected packages: selenium\n",
      "Successfully installed selenium-3.141.0\n"
     ]
    }
   ],
   "source": [
    "!pip install selenium"
   ]
  },
  {
   "cell_type": "code",
   "execution_count": 2,
   "id": "8e58523f",
   "metadata": {},
   "outputs": [],
   "source": [
    "from selenium import webdriver\n",
    "from selenium.webdriver.common.keys import Keys\n",
    "import time"
   ]
  },
  {
   "cell_type": "code",
   "execution_count": 3,
   "id": "9762d5e4",
   "metadata": {},
   "outputs": [],
   "source": [
    "# 웹 드라이버 경로 설정\n",
    "path = './chromedriver.exe'\n",
    "\n",
    "# 크롬 웹 드라이버 객체 생성\n",
    "driver = webdriver.Chrome(path)\n",
    "\n",
    "# url 설정\n",
    "url = 'https://www.bigkinds.or.kr/'\n",
    "\n",
    "# 페이지 열기\n",
    "driver.get(url)"
   ]
  },
  {
   "cell_type": "code",
   "execution_count": 4,
   "id": "d6526fcc",
   "metadata": {},
   "outputs": [],
   "source": [
    "win_size = driver.get_window_size()\n",
    "width = win_size['width']\n",
    "\n",
    "if width <= 1024:\n",
    "    search_logm_btn = driver.find_element_by_class_name('btn-menu')\n",
    "    search_logm_btn.click()\n",
    "    time.sleep(1)\n",
    "    search_logm_btn = driver.find_element_by_css_selector('#header > div.hd-gnb > div.gnb-top > button.btn-login.login-modal-btn.login-area-before')\n",
    "    search_logm_btn.click()\n",
    "\n",
    "else:\n",
    "    search_logd_btn = driver.find_element_by_css_selector('#header > div.hd-top > div > div > button.btn-login.login-modal-btn.login-area-before')\n",
    "    search_logd_btn.click()"
   ]
  },
  {
   "cell_type": "code",
   "execution_count": 6,
   "id": "e39d285e",
   "metadata": {
    "scrolled": true
   },
   "outputs": [],
   "source": [
    "# 검색키워드 \"소년범\" 입력\n",
    "inputSearch = driver.find_element_by_id('total-search-key')\n",
    "inputSearch.send_keys('소년범')"
   ]
  },
  {
   "cell_type": "code",
   "execution_count": 7,
   "id": "f6cb4045",
   "metadata": {},
   "outputs": [],
   "source": [
    "# 상세검색 클릭\n",
    "search_detail_btn = driver.find_element_by_class_name('btn-srchDetail')\n",
    "search_detail_btn.click()"
   ]
  },
  {
   "cell_type": "code",
   "execution_count": 8,
   "id": "8dd4b04a",
   "metadata": {},
   "outputs": [],
   "source": [
    "# 기간 버튼 클릭\n",
    "serach_period_btn = driver.find_element_by_css_selector('.tab1 > a.tab-btn')\n",
    "serach_period_btn.click()\n",
    "\n",
    "# F12에서 오른쪽 버튼 누르고 copy -> copy selector로 가야함 그리고 이것만 있을 고유를 생각해보고 .tab1 > 부터 일거라 예상함\n",
    "#news-search-form > div > div.hd-srch.v2 > div.srch-detail.v2 > div > div.tab-btn-wp1 > div.tab-btn-inner.tab1 > a"
   ]
  },
  {
   "cell_type": "code",
   "execution_count": 9,
   "id": "989550d0",
   "metadata": {},
   "outputs": [],
   "source": [
    "# 날짜 \"20110715\" ~ \"20210716\" 입력\n",
    "inputDateStart = driver.find_element_by_id('search-begin-date')\n",
    "\n",
    "# 1. 백스페이스를 10번정도 눌러줘\n",
    "for i in range(10):\n",
    "    inputDateStart.send_keys(Keys.BACKSPACE)\n",
    "    \n",
    "inputDateStart.send_keys('20110715')\n",
    "inputDateStart.send_keys(Keys.ENTER)\n"
   ]
  },
  {
   "cell_type": "code",
   "execution_count": 10,
   "id": "f184a81f",
   "metadata": {},
   "outputs": [],
   "source": [
    "# 통합분류 클릭            \n",
    "search_cla_btn = driver.find_element_by_css_selector('.tab-btn-inner.tab3 > a')\n",
    "search_cla_btn.click()\n",
    "\n",
    "# news-search-form > div > div.hd-srch.v2 > div.srch-detail.v2 > div > div.tab-btn-wp2 > div."
   ]
  },
  {
   "cell_type": "code",
   "execution_count": 11,
   "id": "c518a367",
   "metadata": {},
   "outputs": [],
   "source": [
    "# 체크박스 통합분류\n",
    "for i in ['1', '3', '4']:\n",
    "    selector = '#srch-tab3 > ul > li:nth-child({}) .gj-checkbox-bootstrap'.format(i)\n",
    "    search_cla_check_box = driver.find_element_by_css_selector(selector)\n",
    "    search_cla_check_box.click()"
   ]
  },
  {
   "cell_type": "code",
   "execution_count": 12,
   "id": "9f7d7c20",
   "metadata": {},
   "outputs": [],
   "source": [
    "# 사건사고 분류 클릭\n",
    "search_acc_btn = driver.find_element_by_css_selector('.tab4 > a')\n",
    "search_acc_btn.click()\n",
    "\n",
    "# news-search-form > div > div.hd-srch.v2 > div.srch-detail.v2 > div > div.tab-btn-wp2 > div.tab-btn-inner.tab4 > a"
   ]
  },
  {
   "cell_type": "code",
   "execution_count": 13,
   "id": "586422f9",
   "metadata": {},
   "outputs": [],
   "source": [
    "# 체크박스 사건사고분류\n",
    "for i in ['1', '2']:\n",
    "    selector = '#srch-tab4 > ul > li:nth-child({}) .gj-checkbox-bootstrap'.format(i)\n",
    "    search_acc_check_box = driver.find_element_by_css_selector(selector)\n",
    "    search_acc_check_box.click() \n",
    "    "
   ]
  },
  {
   "cell_type": "code",
   "execution_count": 14,
   "id": "bccdaea9",
   "metadata": {},
   "outputs": [],
   "source": [
    "# 적용하기 버튼\n",
    "search_app_btn = driver.find_element_by_css_selector('.news-report-search-btn')\n",
    "search_app_btn.click()"
   ]
  },
  {
   "cell_type": "code",
   "execution_count": 15,
   "id": "04c1644e",
   "metadata": {},
   "outputs": [
    {
     "name": "stdout",
     "output_type": "stream",
     "text": [
      "error\n"
     ]
    },
    {
     "name": "stderr",
     "output_type": "stream",
     "text": [
      "<ipython-input-15-f869d0303095>:13: DeprecationWarning: use driver.switch_to.alert instead\n",
      "  result = driver.switch_to_alert()\n"
     ]
    }
   ],
   "source": [
    "step3 = driver.find_element_by_id('collapse-step-3')\n",
    "step3.click()\n",
    "\n",
    "time.sleep(5)\n",
    "\n",
    "download = driver.find_element_by_css_selector('#analytics-data-download > div.btm-btn-wrp > button')\n",
    "download.click()\n",
    "\n",
    "time.sleep(3)\n",
    "\n",
    "try:\n",
    "    # alert 에 확인 누르기\n",
    "    result = driver.switch_to_alert()\n",
    "    result.accept()\n",
    "    result.dismiss()\n",
    "except:\n",
    "    print('error')"
   ]
  },
  {
   "cell_type": "code",
   "execution_count": null,
   "id": "a7e67278",
   "metadata": {},
   "outputs": [],
   "source": []
  },
  {
   "cell_type": "code",
   "execution_count": null,
   "id": "3a91d4be",
   "metadata": {},
   "outputs": [],
   "source": []
  }
 ],
 "metadata": {
  "kernelspec": {
   "display_name": "Python 3",
   "language": "python",
   "name": "python3"
  },
  "language_info": {
   "codemirror_mode": {
    "name": "ipython",
    "version": 3
   },
   "file_extension": ".py",
   "mimetype": "text/x-python",
   "name": "python",
   "nbconvert_exporter": "python",
   "pygments_lexer": "ipython3",
   "version": "3.8.8"
  }
 },
 "nbformat": 4,
 "nbformat_minor": 5
}
